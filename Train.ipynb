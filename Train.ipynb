{
 "cells": [
  {
   "cell_type": "code",
   "execution_count": 47,
   "metadata": {},
   "outputs": [],
   "source": [
    "from encoder import Encoder\n",
    "import torch\n",
    "import numpy as np\n",
    "import torch.nn as nn\n",
    "from torch import optim\n",
    "import torch.nn.functional as F\n",
    "from torch.autograd import Variable\n",
    "from nltk.tokenize import sent_tokenize as ST"
   ]
  },
  {
   "cell_type": "code",
   "execution_count": 48,
   "metadata": {},
   "outputs": [],
   "source": [
    "W2V_PATH = \"/home/jingjing/Desktop/InferSent-master/dataset/GloVe/glove.840B.300d.txt\""
   ]
  },
  {
   "cell_type": "code",
   "execution_count": 49,
   "metadata": {},
   "outputs": [],
   "source": [
    "paragraphs = [\"Adult education is essential for Democracy of India. The number of grown up illiterates is great. All college and senior School students should come forward to visit villages in the summer vacation. Each one will teach one there. This will remove illiteracy and strengthen our democracy.\",\n",
    "             \"I saw a man climbing down a water pipe. He had a knife in his hand. I hit his hand with a brick. He fell down on the ground and I jumped upon him. Soon others reached there and we handed him over to the police.\"]"
   ]
  },
  {
   "cell_type": "code",
   "execution_count": 50,
   "metadata": {},
   "outputs": [
    {
     "name": "stdout",
     "output_type": "stream",
     "text": [
      "[['Adult education is essential for Democracy of India.', 'The number of grown up illiterates is great.', 'All college and senior School students should come forward to visit villages in the summer vacation.', 'Each one will teach one there.', 'This will remove illiteracy and strengthen our democracy.'], ['I saw a man climbing down a water pipe.', 'He had a knife in his hand.', 'I hit his hand with a brick.', 'He fell down on the ground and I jumped upon him.', 'Soon others reached there and we handed him over to the police.']]\n"
     ]
    }
   ],
   "source": [
    "f = Encoder()\n",
    "sentences = ['The Moon is filled wit craters.', 'It has no light of its own.', 'It gets its light from the Sun.']\n",
    "\n",
    "\n",
    "data = []\n",
    "for p in paragraphs:\n",
    "    data.append(ST(p))\n",
    "\n",
    "print(data)\n",
    "f.zero_grad()\n",
    "\n",
    "f.set_w2v_path(W2V_PATH)"
   ]
  },
  {
   "cell_type": "code",
   "execution_count": 51,
   "metadata": {},
   "outputs": [],
   "source": [
    "def make_target(context_size, dim):\n",
    "    targets = np.zeros((dim, dim))\n",
    "    ctxt_sent_pos = list(range(-context_size, context_size+1))\n",
    "    ctxt_sent_pos.remove(0)\n",
    "    for ctxt in ctxt_sent_pos:\n",
    "        targets += np.eye(dim, k=ctxt)\n",
    "    targets_sum = np.sum(targets,axis=1, keepdims=True)\n",
    "    targets = targets / targets_sum\n",
    "    targets = torch.from_numpy(targets)\n",
    "    return targets"
   ]
  },
  {
   "cell_type": "code",
   "execution_count": 52,
   "metadata": {},
   "outputs": [],
   "source": [
    "def loss_fn(pred, target):\n",
    "    mask = 1 - torch.diag(torch.ones(pred.size(1)))\n",
    "    npred = pred * mask\n",
    "    s_pred = F.softmax(npred, -1)\n",
    "    losses = F.binary_cross_entropy_with_logits(s_pred, target, reduce=True)\n",
    "    return losses"
   ]
  },
  {
   "cell_type": "code",
   "execution_count": 53,
   "metadata": {},
   "outputs": [
    {
     "name": "stdout",
     "output_type": "stream",
     "text": [
      "Found 20(/20) words with w2v vectors\n",
      "Vocab size : 20\n",
      "loss before training:  tensor(0.6965)\n"
     ]
    }
   ],
   "source": [
    "with torch.no_grad():\n",
    "    f.build_vocab(sentences, True)\n",
    "    embeddings = f.encode(sentences, len(sentences))\n",
    "    targets = make_target(1, len(sentences))\n",
    "    loss = loss_fn(embeddings, targets.float())\n",
    "    print(\"loss before training: \", loss)"
   ]
  },
  {
   "cell_type": "code",
   "execution_count": 54,
   "metadata": {},
   "outputs": [],
   "source": [
    "optimizer = optim.Adam(f.parameters(), lr=0.1)"
   ]
  },
  {
   "cell_type": "code",
   "execution_count": 55,
   "metadata": {},
   "outputs": [
    {
     "name": "stdout",
     "output_type": "stream",
     "text": [
      "Found 44(/44) words with w2v vectors\n",
      "Vocab size : 44\n",
      "tensor(0.7465)\n",
      "Found 37(/37) words with w2v vectors\n",
      "Vocab size : 37\n",
      "tensor(0.7586)\n",
      "tensor(0.7372)\n",
      "tensor(0.8172)\n",
      "tensor(0.7371)\n",
      "tensor(0.8171)\n",
      "tensor(0.7372)\n",
      "tensor(0.8154)\n",
      "tensor(0.7366)\n",
      "tensor(0.8168)\n",
      "tensor(0.7371)\n",
      "tensor(0.8124)\n",
      "tensor(0.7368)\n",
      "tensor(0.7941)\n",
      "tensor(0.7370)\n",
      "tensor(0.7948)\n",
      "tensor(0.7361)\n",
      "tensor(0.7948)\n",
      "tensor(0.7372)\n",
      "tensor(0.7847)\n",
      "tensor(0.7372)\n",
      "tensor(0.7825)\n",
      "tensor(0.7355)\n",
      "tensor(0.7794)\n",
      "tensor(0.7348)\n",
      "tensor(0.7808)\n",
      "tensor(0.7361)\n",
      "tensor(0.7814)\n",
      "tensor(0.7354)\n",
      "tensor(0.7948)\n",
      "tensor(0.7372)\n",
      "tensor(0.7949)\n",
      "tensor(0.7364)\n",
      "tensor(0.7948)\n",
      "tensor(0.7370)\n",
      "tensor(0.7948)\n",
      "tensor(0.7371)\n",
      "tensor(0.7948)\n",
      "tensor(0.7370)\n",
      "tensor(0.7946)\n"
     ]
    }
   ],
   "source": [
    "for epoch in range(20):\n",
    "    for instance in data:\n",
    "        optimizer.zero_grad()\n",
    "        if epoch == 0:\n",
    "            f.build_vocab(instance, True)\n",
    "        targets = make_target(1, len(instance))\n",
    "        scores = f.encode(instance, len(instance))\n",
    "        loss = loss_fn(scores, targets.float())\n",
    "        print(loss)\n",
    "        loss.backward()\n",
    "        optimizer.step()"
   ]
  },
  {
   "cell_type": "code",
   "execution_count": 36,
   "metadata": {},
   "outputs": [
    {
     "name": "stdout",
     "output_type": "stream",
     "text": [
      "Found 20(/20) words with w2v vectors\n",
      "Vocab size : 20\n",
      "here tensor([[   0.0000,  843.1820,  830.8679],\n",
      "        [ 843.1820,    0.0000,  842.6080],\n",
      "        [ 830.8679,  842.6080,    0.0000]])\n",
      "loss after training:  tensor(0.6161)\n"
     ]
    }
   ],
   "source": [
    "with torch.no_grad():\n",
    "    f.build_vocab(sentences, True)\n",
    "    embeddings = f.encode(sentences, len(sentences))\n",
    "    targets = make_target(1, len(sentences))\n",
    "    loss = loss_fn(embeddings, targets.float())\n",
    "    print(\"loss after training: \", loss)"
   ]
  },
  {
   "cell_type": "code",
   "execution_count": null,
   "metadata": {},
   "outputs": [],
   "source": []
  },
  {
   "cell_type": "code",
   "execution_count": null,
   "metadata": {},
   "outputs": [],
   "source": []
  }
 ],
 "metadata": {
  "kernelspec": {
   "display_name": "Python 3",
   "language": "python",
   "name": "python3"
  },
  "language_info": {
   "codemirror_mode": {
    "name": "ipython",
    "version": 3
   },
   "file_extension": ".py",
   "mimetype": "text/x-python",
   "name": "python",
   "nbconvert_exporter": "python",
   "pygments_lexer": "ipython3",
   "version": "3.5.2"
  }
 },
 "nbformat": 4,
 "nbformat_minor": 2
}
