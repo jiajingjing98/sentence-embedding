{
 "cells": [
  {
   "cell_type": "code",
   "execution_count": 2,
   "metadata": {},
   "outputs": [
    {
     "name": "stdout",
     "output_type": "stream",
     "text": [
      "features {\n",
      "  feature {\n",
      "    key: \"features\"\n",
      "    value {\n",
      "      int64_list {\n",
      "        value: 50000\n",
      "      }\n",
      "    }\n",
      "  }\n",
      "}\n",
      "\n"
     ]
    }
   ],
   "source": [
    "import tensorflow as tf\n",
    "\n",
    "for s in tf.python_io.tf_record_iterator(\"/home/jingjing/Desktop/S2V-master/TFRecords/train-00099-of-00100\"):\n",
    "    example = tf.train.Example()\n",
    "    example.ParseFromString(s)\n",
    "    print(example)\n",
    "    "
   ]
  },
  {
   "cell_type": "code",
   "execution_count": 9,
   "metadata": {},
   "outputs": [
    {
     "data": {
      "text/plain": [
       "<tf.Tensor 'queue/fifo_input_queue_2/fraction_of_16_full:0' shape=() dtype=string>"
      ]
     },
     "execution_count": 9,
     "metadata": {},
     "output_type": "execute_result"
    }
   ],
   "source": [
    "data_files = [\"/home/jingjing/Desktop/S2V-master/TFRecords/train-00099-of-00100\"]\n",
    "\n",
    "filename_queue = tf.train.string_input_producer(\n",
    "      data_files, capacity=16, name=\"filename_queue\")\n",
    "\n",
    "values_queue = tf.FIFOQueue(\n",
    "      capacity=16,\n",
    "      dtypes=[tf.string],\n",
    "      shapes=[[]],\n",
    "      name=\"fifo_input_queue\")\n",
    "reader = tf.TFRecordReader()\n",
    "enqueue_ops = []\n",
    "for _ in range(1):\n",
    "    _, value = reader.read(filename_queue)\n",
    "    enqueue_ops.append(values_queue.enqueue([value]))\n",
    "\n",
    "tf.train.queue_runner.add_queue_runner(\n",
    "      tf.train.queue_runner.QueueRunner(values_queue, enqueue_ops))\n",
    "tf.summary.scalar(\"queue/%s/fraction_of_%d_full\" % (values_queue.name,\n",
    "                                                      16),\n",
    "                    tf.cast(values_queue.size(), tf.float32) * (1.0 / 16))\n"
   ]
  },
  {
   "cell_type": "code",
   "execution_count": 5,
   "metadata": {},
   "outputs": [],
   "source": [
    "a = values_queue.dequeue()\n"
   ]
  },
  {
   "cell_type": "code",
   "execution_count": 6,
   "metadata": {},
   "outputs": [
    {
     "data": {
      "text/plain": [
       "<tf.Tensor 'Print:0' shape=() dtype=string>"
      ]
     },
     "execution_count": 6,
     "metadata": {},
     "output_type": "execute_result"
    }
   ],
   "source": [
    "tf.Print(a, [a])"
   ]
  },
  {
   "cell_type": "code",
   "execution_count": 7,
   "metadata": {},
   "outputs": [
    {
     "data": {
      "text/plain": [
       "<tf.Tensor 'fifo_input_queue_Dequeue:0' shape=() dtype=string>"
      ]
     },
     "execution_count": 7,
     "metadata": {},
     "output_type": "execute_result"
    }
   ],
   "source": [
    "a"
   ]
  },
  {
   "cell_type": "code",
   "execution_count": null,
   "metadata": {},
   "outputs": [],
   "source": []
  }
 ],
 "metadata": {
  "kernelspec": {
   "display_name": "Python 3",
   "language": "python",
   "name": "python3"
  },
  "language_info": {
   "codemirror_mode": {
    "name": "ipython",
    "version": 3
   },
   "file_extension": ".py",
   "mimetype": "text/x-python",
   "name": "python",
   "nbconvert_exporter": "python",
   "pygments_lexer": "ipython3",
   "version": "3.5.2"
  }
 },
 "nbformat": 4,
 "nbformat_minor": 2
}
