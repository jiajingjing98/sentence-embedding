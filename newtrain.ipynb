{
 "cells": [
  {
   "cell_type": "code",
   "execution_count": 1,
   "metadata": {},
   "outputs": [],
   "source": [
    "from model import QTModel\n",
    "import torch\n",
    "import numpy as np\n",
    "import torch.nn as nn\n",
    "from torch import optim\n",
    "import torch.nn.functional as F\n",
    "from torch.autograd import Variable\n",
    "from nltk.tokenize import sent_tokenize as ST"
   ]
  },
  {
   "cell_type": "code",
   "execution_count": 2,
   "metadata": {},
   "outputs": [],
   "source": [
    "W2V_PATH = \"/home/jingjing/Desktop/InferSent-master/dataset/GloVe/glove.840B.300d.txt\""
   ]
  },
  {
   "cell_type": "code",
   "execution_count": 3,
   "metadata": {},
   "outputs": [],
   "source": [
    "#f = open('/home/jingjing/Desktop/small.txt', 'r')\n",
    "with open('/home/jingjing/Desktop/S2V-master/BookCorpus/try.txt', 'r') as in_file:\n",
    "    text = in_file.read()\n",
    "    sents = ST(text)"
   ]
  },
  {
   "cell_type": "code",
   "execution_count": 4,
   "metadata": {},
   "outputs": [
    {
     "data": {
      "text/plain": [
       "18"
      ]
     },
     "execution_count": 4,
     "metadata": {},
     "output_type": "execute_result"
    }
   ],
   "source": [
    "#paragraphs = splat\n",
    "data = sents\n",
    "len(data)"
   ]
  },
  {
   "cell_type": "code",
   "execution_count": 5,
   "metadata": {},
   "outputs": [],
   "source": [
    "sentences = ['Doctors lead a hard life.',\n",
    "             'Their life is very busy.',\n",
    "             'They get up early in the morning and go to the hospital.']"
   ]
  },
  {
   "cell_type": "code",
   "execution_count": 6,
   "metadata": {},
   "outputs": [],
   "source": [
    "f = QTModel()\n",
    "f.set_w2v_path(W2V_PATH)"
   ]
  },
  {
   "cell_type": "code",
   "execution_count": 7,
   "metadata": {},
   "outputs": [],
   "source": [
    "def make_target(context_size, dim):\n",
    "    targets = np.zeros((dim, dim))\n",
    "    ctxt_sent_pos = list(range(-context_size, context_size+1))\n",
    "    ctxt_sent_pos.remove(0)\n",
    "    for ctxt in ctxt_sent_pos:\n",
    "        targets += np.eye(dim, k=ctxt)\n",
    "    targets_sum = np.sum(targets,axis=1, keepdims=True)\n",
    "    targets = targets / targets_sum\n",
    "    targets = torch.from_numpy(targets)\n",
    "    return targets"
   ]
  },
  {
   "cell_type": "code",
   "execution_count": 8,
   "metadata": {},
   "outputs": [],
   "source": [
    "def loss_fn(pred, target):\n",
    "    mask = 1 - torch.diag(torch.ones(pred.size(1)))\n",
    "    npred = pred * mask\n",
    "    s_pred = F.softmax(npred, -1)\n",
    "    ln = nn.BCEWithLogitsLoss()\n",
    "    #ln = nn.KLDivLoss()\n",
    "    losses = ln(s_pred, target)\n",
    "    return losses"
   ]
  },
  {
   "cell_type": "code",
   "execution_count": 9,
   "metadata": {},
   "outputs": [],
   "source": [
    "def nln(pred, target):\n",
    "    mask = 1 - torch.diag(torch.ones(pred.size(1)))\n",
    "    npred = pred * mask\n",
    "    s_pred = F.softmax(npred, -1)\n",
    "    #print(s_pred)\n",
    "    #print(torch.log(s_pred))\n",
    "    product = targets.float() * torch.log(s_pred)\n",
    "    #print(targets)\n",
    "    #print(product)\n",
    "    loss = torch.mean(-torch.sum(product,1))\n",
    "    return loss"
   ]
  },
  {
   "cell_type": "code",
   "execution_count": 11,
   "metadata": {},
   "outputs": [
    {
     "name": "stdout",
     "output_type": "stream",
     "text": [
      "Found 23(/23) words with w2v vectors\n",
      "Vocab size : 23\n",
      "Found 23(/23) words with w2v vectors\n",
      "Vocab size : 23\n",
      "Nb words kept : 31/31 (100.0%)\n",
      "Speed : 82.9 sentences/s (cpu mode, bsize=400)\n",
      "Nb words kept : 31/31 (100.0%)\n",
      "Speed : 88.3 sentences/s (cpu mode, bsize=400)\n",
      "loss before training:  tensor(1.1495)\n"
     ]
    }
   ],
   "source": [
    "with torch.no_grad():\n",
    "    f.build_vocab(sentences, True)\n",
    "    embs = f(sentences, 400, True, True)\n",
    "    #print(embs)\n",
    "    targets = make_target(1, len(sentences))\n",
    "    loss = nln(embs, targets.float())\n",
    "    \n",
    "    print(\"loss before training: \", loss)"
   ]
  },
  {
   "cell_type": "code",
   "execution_count": 12,
   "metadata": {},
   "outputs": [
    {
     "data": {
      "text/plain": [
       "0.0"
      ]
     },
     "execution_count": 12,
     "metadata": {},
     "output_type": "execute_result"
    }
   ],
   "source": [
    "optimizer = optim.Adam(f.parameters(), lr=0.0005)\n",
    "nn.utils.clip_grad_norm_(f.parameters(), 5)"
   ]
  },
  {
   "cell_type": "code",
   "execution_count": 13,
   "metadata": {},
   "outputs": [
    {
     "name": "stdout",
     "output_type": "stream",
     "text": [
      "18\n"
     ]
    }
   ],
   "source": [
    "print(len(data))"
   ]
  },
  {
   "cell_type": "code",
   "execution_count": 14,
   "metadata": {},
   "outputs": [
    {
     "name": "stdout",
     "output_type": "stream",
     "text": [
      "Found 186(/188) words with w2v vectors\n",
      "Vocab size : 186\n",
      "Found 186(/188) words with w2v vectors\n",
      "Vocab size : 186\n",
      "tensor(2.9004)\n",
      "tensor(2.8098)\n",
      "tensor(2.7037)\n",
      "tensor(2.4710)\n",
      "tensor(2.2661)\n",
      "tensor(1.9940)\n",
      "tensor(1.6606)\n",
      "tensor(1.4069)\n",
      "tensor(1.3383)\n",
      "tensor(1.0879)\n"
     ]
    }
   ],
   "source": [
    "for epoch in range(10):\n",
    "    optimizer.zero_grad()\n",
    "    if epoch == 0:\n",
    "        f.build_vocab(data, True)\n",
    "    targets = make_target(1, len(data))\n",
    "    scores = f(data, 400)\n",
    "    loss = nln(scores, targets.float())\n",
    "    print(loss)\n",
    "    loss.backward()\n",
    "    optimizer.step()"
   ]
  },
  {
   "cell_type": "code",
   "execution_count": 15,
   "metadata": {},
   "outputs": [
    {
     "name": "stdout",
     "output_type": "stream",
     "text": [
      "loss after training:  tensor(0.7034)\n"
     ]
    }
   ],
   "source": [
    "with torch.no_grad():\n",
    "    #f.build_vocab(sentences, True)\n",
    "    embeddings = f(sentences, 400)\n",
    "    targets = make_target(1, len(sentences))\n",
    "    loss = loss_fn(embeddings, targets.float())\n",
    "    print(\"loss after training: \", loss)"
   ]
  },
  {
   "cell_type": "code",
   "execution_count": 16,
   "metadata": {},
   "outputs": [],
   "source": [
    "saved = \"/home/jingjing/Desktop/emb/saved/qt.pkl\"\n",
    "torch.save(f.state_dict(), saved)"
   ]
  },
  {
   "cell_type": "code",
   "execution_count": null,
   "metadata": {},
   "outputs": [],
   "source": [
    "embs1 = f.f.encode(sentences, 400)"
   ]
  },
  {
   "cell_type": "code",
   "execution_count": null,
   "metadata": {},
   "outputs": [],
   "source": [
    "emb2 = f.g.encode(sentences, 400)"
   ]
  },
  {
   "cell_type": "code",
   "execution_count": null,
   "metadata": {},
   "outputs": [],
   "source": [
    "embs1"
   ]
  },
  {
   "cell_type": "code",
   "execution_count": null,
   "metadata": {},
   "outputs": [],
   "source": [
    "emb2"
   ]
  },
  {
   "cell_type": "code",
   "execution_count": null,
   "metadata": {},
   "outputs": [],
   "source": [
    "torch.cat((embs1, emb2),1)"
   ]
  },
  {
   "cell_type": "code",
   "execution_count": null,
   "metadata": {},
   "outputs": [],
   "source": []
  }
 ],
 "metadata": {
  "kernelspec": {
   "display_name": "Python 3",
   "language": "python",
   "name": "python3"
  },
  "language_info": {
   "codemirror_mode": {
    "name": "ipython",
    "version": 3
   },
   "file_extension": ".py",
   "mimetype": "text/x-python",
   "name": "python",
   "nbconvert_exporter": "python",
   "pygments_lexer": "ipython3",
   "version": "3.5.2"
  }
 },
 "nbformat": 4,
 "nbformat_minor": 2
}
