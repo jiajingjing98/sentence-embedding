{
 "cells": [
  {
   "cell_type": "code",
   "execution_count": 1,
   "metadata": {},
   "outputs": [],
   "source": [
    "from model import QTModel\n",
    "import torch\n",
    "import numpy as np\n",
    "import torch.nn as nn\n",
    "from torch import optim\n",
    "import torch.nn.functional as F\n",
    "from torch.autograd import Variable\n",
    "from nltk.tokenize import sent_tokenize as ST"
   ]
  },
  {
   "cell_type": "code",
   "execution_count": 2,
   "metadata": {},
   "outputs": [],
   "source": [
    "W2V_PATH = \"./glove.840B.300d.txt\""
   ]
  },
  {
   "cell_type": "code",
   "execution_count": 3,
   "metadata": {},
   "outputs": [],
   "source": [
    "#f = open('/home/jingjing/Desktop/small.txt', 'r')\n",
    "with open('/home/jingjing/Desktop/big.txt', 'r') as in_file:\n",
    "    text = in_file.read()\n",
    "    sents = ST(text)"
   ]
  },
  {
   "cell_type": "code",
   "execution_count": 4,
   "metadata": {},
   "outputs": [
    {
     "data": {
      "text/plain": [
       "348069"
      ]
     },
     "execution_count": 4,
     "metadata": {},
     "output_type": "execute_result"
    }
   ],
   "source": [
    "#paragraphs = splat\n",
    "data = sents\n",
    "len(data)"
   ]
  },
  {
   "cell_type": "code",
   "execution_count": 5,
   "metadata": {},
   "outputs": [],
   "source": [
    "sentences = ['Doctors lead a hard life.',\n",
    "             'Their life is very busy.',\n",
    "             'They get up early in the morning and go to the hospital.']"
   ]
  },
  {
   "cell_type": "code",
   "execution_count": 6,
   "metadata": {},
   "outputs": [],
   "source": [
    "f = QTModel()\n",
    "f.set_w2v_path(W2V_PATH)"
   ]
  },
  {
   "cell_type": "code",
   "execution_count": 7,
   "metadata": {},
   "outputs": [],
   "source": [
    "def make_target(context_size, dim):\n",
    "    targets = np.zeros((dim, dim))\n",
    "    ctxt_sent_pos = list(range(-context_size, context_size+1))\n",
    "    ctxt_sent_pos.remove(0)\n",
    "    for ctxt in ctxt_sent_pos:\n",
    "        targets += np.eye(dim, k=ctxt)\n",
    "    targets_sum = np.sum(targets,axis=1, keepdims=True)\n",
    "    targets = targets / targets_sum\n",
    "    targets = torch.from_numpy(targets)\n",
    "    return targets"
   ]
  },
  {
   "cell_type": "code",
   "execution_count": 8,
   "metadata": {},
   "outputs": [],
   "source": [
    "def loss_fn(pred, target):\n",
    "    mask = 1 - torch.diag(torch.ones(pred.size(1)))\n",
    "    npred = pred * mask\n",
    "    s_pred = F.softmax(npred, -1)\n",
    "    ln = nn.BCEWithLogitsLoss()\n",
    "    #ln = nn.KLDivLoss()\n",
    "    losses = ln(s_pred, target)\n",
    "    return losses"
   ]
  },
  {
   "cell_type": "code",
   "execution_count": 9,
   "metadata": {},
   "outputs": [],
   "source": [
    "def nln(pred, target):\n",
    "    mask = 1 - torch.diag(torch.ones(pred.size(1)))\n",
    "    npred = pred * mask\n",
    "    s_pred = F.softmax(npred, -1)\n",
    "    #print(s_pred)\n",
    "    #print(torch.log(s_pred))\n",
    "    product = targets.float() * torch.log(s_pred)\n",
    "    #print(targets)\n",
    "    #print(product)\n",
    "    loss = torch.mean(-torch.sum(product,1))\n",
    "    return loss"
   ]
  },
  {
   "cell_type": "code",
   "execution_count": 10,
   "metadata": {},
   "outputs": [
    {
     "name": "stdout",
     "output_type": "stream",
     "text": [
      "Found 23(/23) words with w2v vectors\n",
      "Vocab size : 23\n",
      "Found 23(/23) words with w2v vectors\n",
      "Vocab size : 23\n",
      "Nb words kept : 31/31 (100.0%)\n",
      "Speed : 18.1 sentences/s (cpu mode, bsize=400)\n",
      "Nb words kept : 31/31 (100.0%)\n",
      "Speed : 97.5 sentences/s (cpu mode, bsize=400)\n",
      "loss before training:  tensor(1.0924)\n"
     ]
    }
   ],
   "source": [
    "with torch.no_grad():\n",
    "    f.build_vocab(sentences, True)\n",
    "    embs = f(sentences, 400, True, True)\n",
    "    #print(embs)\n",
    "    targets = make_target(1, len(sentences))\n",
    "    loss = nln(embs, targets.float())\n",
    "    \n",
    "    print(\"loss before training: \", loss)"
   ]
  },
  {
   "cell_type": "code",
   "execution_count": 11,
   "metadata": {},
   "outputs": [
    {
     "data": {
      "text/plain": [
       "0.0"
      ]
     },
     "execution_count": 11,
     "metadata": {},
     "output_type": "execute_result"
    }
   ],
   "source": [
    "optimizer = optim.Adam(f.parameters(), lr=0.0005)\n",
    "nn.utils.clip_grad_norm_(f.parameters(), 5)"
   ]
  },
  {
   "cell_type": "code",
   "execution_count": 12,
   "metadata": {},
   "outputs": [
    {
     "name": "stdout",
     "output_type": "stream",
     "text": [
      "348069\n"
     ]
    }
   ],
   "source": [
    "print(len(data))"
   ]
  },
  {
   "cell_type": "code",
   "execution_count": 17,
   "metadata": {},
   "outputs": [
    {
     "name": "stdout",
     "output_type": "stream",
     "text": [
      "Found 872(/880) words with w2v vectors\n",
      "Vocab size : 872\n",
      "Found 872(/880) words with w2v vectors\n",
      "Vocab size : 872\n",
      "tensor(4.7404)\n"
     ]
    }
   ],
   "source": [
    "for epoch in range(1):\n",
    "    optimizer.zero_grad()\n",
    "    if epoch == 0:\n",
    "        f.build_vocab(data[90:200], True)\n",
    "    #targets = make_target(1, len(data))\n",
    "    scores = f(data[90:200], 400)\n",
    "    targets = make_target(1, scores.size(0))\n",
    "    loss = nln(scores, targets.float())\n",
    "    print(loss)\n",
    "    loss.backward()\n",
    "    optimizer.step()"
   ]
  },
  {
   "cell_type": "code",
   "execution_count": 18,
   "metadata": {},
   "outputs": [
    {
     "name": "stdout",
     "output_type": "stream",
     "text": [
      "loss after training:  tensor(0.5234)\n"
     ]
    }
   ],
   "source": [
    "with torch.no_grad():\n",
    "    #f.build_vocab(sentences, True)\n",
    "    embeddings = f(sentences, 400)\n",
    "    targets = make_target(1, len(sentences))\n",
    "    loss = nln(embeddings, targets.float())\n",
    "    print(\"loss after training: \", loss)"
   ]
  },
  {
   "cell_type": "code",
   "execution_count": 19,
   "metadata": {},
   "outputs": [],
   "source": [
    "saved = \"/home/jingjing/Desktop/emb/saved/qt.pkl\"\n",
    "torch.save(f.state_dict(), saved)"
   ]
  },
  {
   "cell_type": "code",
   "execution_count": null,
   "metadata": {},
   "outputs": [],
   "source": [
    "embs1 = f.f.encode(sentences, 400)"
   ]
  },
  {
   "cell_type": "code",
   "execution_count": null,
   "metadata": {},
   "outputs": [],
   "source": [
    "emb2 = f.g.encode(sentences, 400)"
   ]
  },
  {
   "cell_type": "code",
   "execution_count": null,
   "metadata": {},
   "outputs": [],
   "source": [
    "embs1"
   ]
  },
  {
   "cell_type": "code",
   "execution_count": null,
   "metadata": {},
   "outputs": [],
   "source": [
    "emb2"
   ]
  },
  {
   "cell_type": "code",
   "execution_count": null,
   "metadata": {},
   "outputs": [],
   "source": [
    "torch.cat((embs1, emb2),1)"
   ]
  },
  {
   "cell_type": "code",
   "execution_count": null,
   "metadata": {},
   "outputs": [],
   "source": []
  }
 ],
 "metadata": {
  "kernelspec": {
   "display_name": "Python 3",
   "language": "python",
   "name": "python3"
  },
  "language_info": {
   "codemirror_mode": {
    "name": "ipython",
    "version": 3
   },
   "file_extension": ".py",
   "mimetype": "text/x-python",
   "name": "python",
   "nbconvert_exporter": "python",
   "pygments_lexer": "ipython3",
   "version": "3.5.2"
  }
 },
 "nbformat": 4,
 "nbformat_minor": 2
}
