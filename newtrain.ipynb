{
 "cells": [
  {
   "cell_type": "code",
   "execution_count": 25,
   "metadata": {},
   "outputs": [],
   "source": [
    "from encoder import QTModel\n",
    "import torch\n",
    "import numpy as np\n",
    "import torch.nn as nn\n",
    "from torch import optim\n",
    "import torch.nn.functional as F\n",
    "from torch.autograd import Variable\n",
    "from nltk.tokenize import sent_tokenize as ST\n",
    "import nltk"
   ]
  },
  {
   "cell_type": "code",
   "execution_count": 26,
   "metadata": {},
   "outputs": [],
   "source": [
    "W2V_PATH = \"/home/jingjing/Desktop/InferSent-master/dataset/GloVe/glove.840B.300d.txt\""
   ]
  },
  {
   "cell_type": "code",
   "execution_count": 27,
   "metadata": {},
   "outputs": [],
   "source": [
    "#f = open('/home/jingjing/Desktop/small.txt', 'r')\n",
    "with open('/home/jingjing/Desktop/big.txt', 'r') as in_file:\n",
    "    text = in_file.read()\n",
    "    sents = nltk.sent_tokenize(text)"
   ]
  },
  {
   "cell_type": "code",
   "execution_count": 28,
   "metadata": {},
   "outputs": [
    {
     "data": {
      "text/plain": [
       "348069"
      ]
     },
     "execution_count": 28,
     "metadata": {},
     "output_type": "execute_result"
    }
   ],
   "source": [
    "#paragraphs = splat\n",
    "data = sents\n",
    "len(data)"
   ]
  },
  {
   "cell_type": "code",
   "execution_count": 29,
   "metadata": {},
   "outputs": [],
   "source": [
    "sentences = ['Doctors lead a hard life.',\n",
    "             'Their life is very busy.',\n",
    "             'They get up early in the morning and go to the hospital.']\n",
    "#data = []\n",
    "#for p in paragraphs:\n",
    "#    nl = ST(p)\n",
    "#    if len(nl) > 1:\n",
    "#        data.append(ST(p))"
   ]
  },
  {
   "cell_type": "code",
   "execution_count": 30,
   "metadata": {},
   "outputs": [],
   "source": [
    "f = QTModel()\n",
    "f.set_w2v_path(W2V_PATH)"
   ]
  },
  {
   "cell_type": "code",
   "execution_count": 31,
   "metadata": {},
   "outputs": [],
   "source": [
    "def make_target(context_size, dim):\n",
    "    targets = np.zeros((dim, dim))\n",
    "    ctxt_sent_pos = list(range(-context_size, context_size+1))\n",
    "    ctxt_sent_pos.remove(0)\n",
    "    for ctxt in ctxt_sent_pos:\n",
    "        targets += np.eye(dim, k=ctxt)\n",
    "    targets_sum = np.sum(targets,axis=1, keepdims=True)\n",
    "    targets = targets / targets_sum\n",
    "    targets = torch.from_numpy(targets)\n",
    "    return targets"
   ]
  },
  {
   "cell_type": "code",
   "execution_count": 32,
   "metadata": {},
   "outputs": [],
   "source": [
    "def loss_fn(pred, target):\n",
    "    mask = 1 - torch.diag(torch.ones(pred.size(1)))\n",
    "    npred = pred * mask\n",
    "    s_pred = F.softmax(npred, -1)\n",
    "    ln = nn.BCELoss(\n",
    "        size_average=False\n",
    "    )\n",
    "    losses = ln(s_pred, target)\n",
    "    return losses"
   ]
  },
  {
   "cell_type": "code",
   "execution_count": 36,
   "metadata": {},
   "outputs": [
    {
     "name": "stdout",
     "output_type": "stream",
     "text": [
      "Found 23(/23) words with w2v vectors\n",
      "Vocab size : 23\n",
      "Found 23(/23) words with w2v vectors\n",
      "Vocab size : 23\n",
      "Nb words kept : 31/31 (100.0%)\n",
      "Speed : 81.7 sentences/s (cpu mode, bsize=400)\n",
      "Nb words kept : 31/31 (100.0%)\n",
      "Speed : 83.0 sentences/s (cpu mode, bsize=400)\n",
      "tensor([[ 13.8343,  13.0828,  12.9733],\n",
      "        [ 13.0828,  14.3033,  13.3851],\n",
      "        [ 12.9733,  13.3851,  14.0952]])\n",
      "loss before training:  tensor(3.7054)\n"
     ]
    }
   ],
   "source": [
    "with torch.no_grad():\n",
    "    f.build_vocab(sentences, True)\n",
    "    embs = f(sentences, 400, True, True)\n",
    "    print(embs)\n",
    "    targets = make_target(1, len(sentences))\n",
    "    loss = loss_fn(embs, targets.float())\n",
    "    print(\"loss before training: \", loss)"
   ]
  },
  {
   "cell_type": "code",
   "execution_count": 34,
   "metadata": {},
   "outputs": [
    {
     "data": {
      "text/plain": [
       "0.0"
      ]
     },
     "execution_count": 34,
     "metadata": {},
     "output_type": "execute_result"
    }
   ],
   "source": [
    "optimizer = optim.Adam(f.parameters(), lr=0.0005)\n",
    "nn.utils.clip_grad_norm_(f.parameters(), 5)"
   ]
  },
  {
   "cell_type": "code",
   "execution_count": 42,
   "metadata": {},
   "outputs": [
    {
     "name": "stdout",
     "output_type": "stream",
     "text": [
      "30\n"
     ]
    }
   ],
   "source": [
    "print(len(data))\n",
    "data = data[:3]"
   ]
  },
  {
   "cell_type": "code",
   "execution_count": 43,
   "metadata": {},
   "outputs": [
    {
     "name": "stdout",
     "output_type": "stream",
     "text": [
      "tensor(1.6348)\n",
      "tensor(1.5354)\n",
      "tensor(1.4775)\n",
      "tensor(1.5697)\n",
      "tensor(1.5414)\n",
      "tensor(1.4421)\n",
      "tensor(1.4819)\n",
      "tensor(1.5023)\n",
      "tensor(1.4211)\n",
      "tensor(1.4313)\n"
     ]
    }
   ],
   "source": [
    "for epoch in range(10):\n",
    "    optimizer.zero_grad()\n",
    "    #if epoch == 0:\n",
    "    #    f.build_vocab(data, True)\n",
    "    targets = make_target(1, len(data))\n",
    "    scores = f(data, 400)\n",
    "    loss = loss_fn(scores, targets.float())\n",
    "    print(loss)\n",
    "    loss.backward()\n",
    "    optimizer.step()"
   ]
  },
  {
   "cell_type": "code",
   "execution_count": 15,
   "metadata": {},
   "outputs": [
    {
     "data": {
      "text/plain": [
       "tensor([[ 13.7052,  12.2488,  12.3763,  ...,  12.3315,  12.7218,\n",
       "          12.2630],\n",
       "        [ 12.2488,  13.5968,  12.5174,  ...,  12.5708,  12.6317,\n",
       "          12.2759],\n",
       "        [ 12.3763,  12.5174,  14.7313,  ...,  14.2081,  13.0468,\n",
       "          13.0308],\n",
       "        ...,\n",
       "        [ 12.3315,  12.5708,  14.2081,  ...,  15.0949,  13.1594,\n",
       "          12.8347],\n",
       "        [ 12.7218,  12.6317,  13.0468,  ...,  13.1594,  14.0605,\n",
       "          12.7751],\n",
       "        [ 12.2630,  12.2759,  13.0308,  ...,  12.8347,  12.7751,\n",
       "          13.5692]])"
      ]
     },
     "execution_count": 15,
     "metadata": {},
     "output_type": "execute_result"
    }
   ],
   "source": [
    "scores"
   ]
  },
  {
   "cell_type": "code",
   "execution_count": 44,
   "metadata": {},
   "outputs": [
    {
     "name": "stdout",
     "output_type": "stream",
     "text": [
      "loss after training:  tensor(6.4941)\n"
     ]
    }
   ],
   "source": [
    "with torch.no_grad():\n",
    "    #f.build_vocab(sentences, True)\n",
    "    embeddings = f(sentences, 400)\n",
    "    targets = make_target(1, len(sentences))\n",
    "    loss = loss_fn(embeddings, targets.float())\n",
    "    print(\"loss after training: \", loss)"
   ]
  },
  {
   "cell_type": "code",
   "execution_count": 41,
   "metadata": {},
   "outputs": [
    {
     "data": {
      "image/png": "[encoded data removed]",
      "text/plain": [
       "<Figure size 432x288 with 1 Axes>"
      ]
     },
     "metadata": {},
     "output_type": "display_data"
    },
    {
     "data": {
      "image/png": "[encoded data removed]",
      "text/plain": [
       "<Figure size 432x288 with 1 Axes>"
      ]
     },
     "metadata": {},
     "output_type": "display_data"
    }
   ],
   "source": [
    "import matplotlib.pyplot as plt\n",
    "\n",
    "for i in range(len(trdata)):\n",
    "    plt.figure(i)\n",
    "    plt.plot(trdata[i][1:])\n",
    "    plt.show()\n"
   ]
  },
  {
   "cell_type": "code",
   "execution_count": null,
   "metadata": {},
   "outputs": [],
   "source": []
  }
 ],
 "metadata": {
  "kernelspec": {
   "display_name": "Python 3",
   "language": "python",
   "name": "python3"
  },
  "language_info": {
   "codemirror_mode": {
    "name": "ipython",
    "version": 3
   },
   "file_extension": ".py",
   "mimetype": "text/x-python",
   "name": "python",
   "nbconvert_exporter": "python",
   "pygments_lexer": "ipython3",
   "version": "3.5.2"
  }
 },
 "nbformat": 4,
 "nbformat_minor": 2
}
